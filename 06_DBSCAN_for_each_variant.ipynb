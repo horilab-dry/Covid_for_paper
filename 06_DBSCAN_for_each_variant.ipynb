{
 "cells": [
  {
   "cell_type": "code",
   "execution_count": null,
   "id": "d105558d",
   "metadata": {},
   "outputs": [],
   "source": [
    "from sklearn.cluster import DBSCAN\n",
    "import pandas as pd\n",
    "import matplotlib.pyplot as plt\n",
    "import matplotlib\n",
    "import os"
   ]
  },
  {
   "cell_type": "code",
   "execution_count": null,
   "id": "9e48d6ef",
   "metadata": {},
   "outputs": [],
   "source": [
    "df_result = pd.read_csv('df_result.csv', index_col = 0, keep_default_na=False)"
   ]
  },
  {
   "cell_type": "code",
   "execution_count": null,
   "id": "840f1c0a",
   "metadata": {},
   "outputs": [],
   "source": [
    "### Extract each variant ###\n",
    "\n",
    "# function to count the number of each variant\n",
    "def return_species_names_list_in_DB_cluster(df):\n",
    "    species_name_list_in_DB_label = df['species_name'].value_counts()\n",
    "    return species_name_list_in_DB_label\n",
    "\n",
    "def collect_major_species_from_cluster(df, label_name, n_threshhold = 100):\n",
    "    \n",
    "    species_name_in_DB_cluster_pd = pd.DataFrame() # dataframe for binding\n",
    "    n_size_of_each_DB_label = df.groupby(label_name).size() # extract the size of obtained clusters with index\n",
    "    list_of_DB_label_above_threshold = n_size_of_each_DB_label[n_size_of_each_DB_label > n_threshhold] # remove the small clusters\n",
    "    \n",
    "    for i, label in enumerate(list_of_DB_label_above_threshold[1:].index): # The labeled -1 indicates an outlier, so it starts from the next value\n",
    "        \n",
    "        # count the number of each variant exsiting in the labels assigned by dbscan\n",
    "        species_name_in_DB_cluster = return_species_names_list_in_DB_cluster(df[df[label_name] == label])\n",
    "        # attach the ID, and convert to series\n",
    "        species_name_in_DB_cluster_s = pd.Series(species_name_in_DB_cluster, name = f'cluster_{i + 1}')\n",
    "        # number to ratio\n",
    "        species_name_in_DB_cluster_s = round(species_name_in_DB_cluster_s/species_name_in_DB_cluster_s.sum(), 3)\n",
    "        # bind to the empty dataframe\n",
    "        species_name_in_DB_cluster_pd = pd.concat([species_name_in_DB_cluster_pd, species_name_in_DB_cluster_s], axis = 1)\n",
    "        \n",
    "    species_name_in_DB_cluster_pd = species_name_in_DB_cluster_pd.fillna(0) # convert NaN to 0\n",
    "    major_species_dict = species_name_in_DB_cluster_pd.idxmax().rename('major_species_in_cluster') # extract the name of major variant\n",
    "   \n",
    "    # name the size of each dbscan cluster extracted as 'n' and reset the index (outliers are removed)\n",
    "    # this is because when the small clusters were removed, index also removed.\n",
    "    species_size_of_major = list_of_DB_label_above_threshold[1:].rename('n').reset_index()\n",
    "    \n",
    "    # label of each cluster was converted to the raw. Each raw contains major variant and its size.\n",
    "    cluster_num_dict = pd.concat([major_species_dict.reset_index(), species_size_of_major], axis = 1)\n",
    "    \n",
    "    return species_name_in_DB_cluster_pd, cluster_num_dict"
   ]
  },
  {
   "cell_type": "code",
   "execution_count": null,
   "id": "44b4fcf4",
   "metadata": {},
   "outputs": [],
   "source": [
    "species_name_in_DB_cluster_pd_aa, cluster_num_dict_aa = collect_major_species_from_cluster(df_result, 'aa_properties_dbscan')\n",
    "\n",
    "species_name_in_DB_cluster_pd_one_hot, cluster_num_dict_one_hot = collect_major_species_from_cluster(df_result, 'one_hot_dbscan')\n",
    "\n",
    "species_name_in_DB_cluster_pd_kmer, cluster_num_dict_kmer = collect_major_species_from_cluster(df_result, 'kmer_dbscan')"
   ]
  },
  {
   "cell_type": "code",
   "execution_count": null,
   "id": "5efd76f3",
   "metadata": {},
   "outputs": [],
   "source": [
    "df_result_aa = pd.merge(cluster_num_dict_aa, df_result, on='aa_properties_dbscan')\\\n",
    "    .rename(columns={'index': 'cluster_no'}) # change the column name\n",
    "\n",
    "df_result_aa.to_csv('df_result_aa.csv')\n",
    "\n",
    "\n",
    "df_result_one_hot = pd.merge(cluster_num_dict_one_hot, df_result, on='one_hot_dbscan')\\\n",
    "    .rename(columns={'index': 'cluster_no'}) # change the column name\n",
    "\n",
    "df_result_one_hot.to_csv('df_result_one_hot.csv')\n",
    "\n",
    "\n",
    "df_result_kmer = pd.merge(cluster_num_dict_kmer, df_result, on='kmer_dbscan')\\\n",
    "    .rename(columns={'index': 'cluster_no'}) # change the column name\n",
    "\n",
    "df_result_kmer.to_csv('df_result_kmer.csv')"
   ]
  },
  {
   "cell_type": "code",
   "execution_count": null,
   "id": "04fea84d",
   "metadata": {},
   "outputs": [],
   "source": [
    "# function to relabeling、other = Ot, N/A = NA, and others take three letters from first\n",
    "def rename_species_for_label(species_name: str):\n",
    "    if species_name == 'other': \n",
    "        rename = 'Ot'\n",
    "    elif species_name == 'N/A':\n",
    "        rename = 'NA'\n",
    "    else:\n",
    "        rename = species_name[0:2]\n",
    "    return rename"
   ]
  },
  {
   "cell_type": "code",
   "execution_count": null,
   "id": "37ac5fc3",
   "metadata": {},
   "outputs": [],
   "source": [
    "def plot_tSNE_with_cluster_no(df, species_name, x_axis, y_axis):\n",
    "    \n",
    "    species_name_data = df[df['species_name'] == species_name] # extract the variant matching with specific label\n",
    "    major_species_name_data = df[df['major_species_in_cluster'] == species_name] # extract the clusters whose highest percentage of variant detemined by DBSCAN matches with \n",
    "    # obtained dataframe is connected\n",
    "    merged_pd = pd.merge(species_name_data, major_species_name_data, on=[x_axis, y_axis], how = \"inner\")\n",
    "    \n",
    "    major_species_name_data_group = major_species_name_data.groupby('cluster_no')\n",
    "    fig, ax = plt.subplots(figsize=(12, 8))\n",
    "    major_species_name_data_mean = major_species_name_data_group.mean().reset_index()\n",
    "    \n",
    "    for key, grp in major_species_name_data_group:\n",
    "        x_axis_label_position = major_species_name_data_mean[major_species_name_data_mean[\"cluster_no\"] == key][x_axis]\n",
    "        y_axis_label_position = major_species_name_data_mean[major_species_name_data_mean[\"cluster_no\"] == key][y_axis]\n",
    "        ax.scatter(grp[x_axis], grp[y_axis], label = key, s = .5, c = \"m\", alpha = 1)\n",
    "        ax.text(x_axis_label_position, y_axis_label_position, f\"{key}\", fontsize = 14)\n",
    "    \n",
    "    ax.scatter(species_name_data[x_axis], species_name_data[y_axis], s = .5, c = \"c\", alpha = 1)\n",
    "    ax.scatter(merged_pd[x_axis], merged_pd[y_axis], s = .5, c = \"orange\", alpha = 1)\n",
    "    \n",
    "    \n",
    "    plt.xlabel('t-SNE x axis', fontsize = 20, fontweight = 'bold')\n",
    "    plt.ylabel('t-SNE y axis', fontsize = 20, fontweight = 'bold')\n",
    "    plt.title(species_name, fontsize = 24)\n",
    "    plt.xlim(-70, 70)\n",
    "    plt.ylim(-70, 70)\n",
    "    plt.xticks(fontsize = 18)\n",
    "    plt.yticks(fontsize = 18)"
   ]
  },
  {
   "cell_type": "code",
   "execution_count": null,
   "id": "33f75790",
   "metadata": {},
   "outputs": [],
   "source": [
    "# Fig. 5\n",
    "\n",
    "current_dir = os.getcwd()\n",
    "\n",
    "os.mkdir('each_cluster_aa')\n",
    "os.chdir('each_cluster_aa')\n",
    "for i in df_result['species_name'].unique():\n",
    "    plot_tSNE_with_cluster_no(df_result_aa, i,'tsne_x_axis_volume_hydro', 'tsne_y_axis_volume_hydro')\n",
    "    plt.savefig(f't_SNE_{rename_species_for_label(i)}_with_cluster_no_aa.png', dpi = 300)\n",
    "os.chdir(current_dir)\n",
    "\n",
    "os.mkdir('each_cluster_one_hot')\n",
    "os.chdir('each_cluster_one_hot')\n",
    "for i in df_result['species_name'].unique():\n",
    "    plot_tSNE_with_cluster_no(df_result_one_hot, i, 'tsne_x_axis_seq_datas', 'tsne_y_axis_seq_datas')\n",
    "    plt.savefig(f't_SNE_{rename_species_for_label(i)}_with_cluster_no_one_hot.png', dpi = 300)\n",
    "os.chdir(current_dir)\n",
    "\n",
    "os.mkdir('each_cluster_kmer')\n",
    "os.chdir('each_cluster_kmer')\n",
    "for i in df_result['species_name'].unique():\n",
    "    plot_tSNE_with_cluster_no(df_result_kmer, i, 'tsne_x_axis_data_pattern', 'tsne_y_axis_data_pattern')\n",
    "    plt.savefig(f't_SNE_{rename_species_for_label(i)}_with_cluster_no_kmer.png', dpi = 300)\n",
    "os.chdir(current_dir)"
   ]
  },
  {
   "cell_type": "code",
   "execution_count": null,
   "id": "c752def1",
   "metadata": {},
   "outputs": [],
   "source": [
    "species_name_in_DB_cluster_pd_aa.to_csv('Table_S2_species_in_the_DBSNCANed_cluster_aa.csv')\n",
    "species_name_in_DB_cluster_pd_one_hot.to_csv('Table_S2_species_in_the_DBSNCANed_cluster_one_hot.csv')\n",
    "species_name_in_DB_cluster_pd_kmer.to_csv('Table_S2_species_in_the_DBSNCANed_cluster_kmer.csv')"
   ]
  }
 ],
 "metadata": {
  "kernelspec": {
   "display_name": "Python 3 (ipykernel)",
   "language": "python",
   "name": "python3"
  },
  "language_info": {
   "codemirror_mode": {
    "name": "ipython",
    "version": 3
   },
   "file_extension": ".py",
   "mimetype": "text/x-python",
   "name": "python",
   "nbconvert_exporter": "python",
   "pygments_lexer": "ipython3",
   "version": "3.7.3"
  }
 },
 "nbformat": 4,
 "nbformat_minor": 5
}
