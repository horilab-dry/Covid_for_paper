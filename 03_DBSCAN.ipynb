{
 "cells": [
  {
   "cell_type": "code",
   "execution_count": null,
   "id": "5c997004",
   "metadata": {},
   "outputs": [],
   "source": [
    "from sklearn.cluster import DBSCAN\n",
    "import pandas as pd\n",
    "import matplotlib.pyplot as plt\n",
    "import matplotlib\n",
    "import os\n",
    "from tqdm import tqdm"
   ]
  },
  {
   "cell_type": "code",
   "execution_count": null,
   "id": "fb2211b3",
   "metadata": {},
   "outputs": [],
   "source": [
    "df_result = pd.read_csv('after_t-sne.csv')"
   ]
  },
  {
   "cell_type": "code",
   "execution_count": null,
   "id": "370d316c",
   "metadata": {},
   "outputs": [],
   "source": [
    "def label_dbscan(embeded_param):\n",
    "    db = DBSCAN(eps = 1.5, min_samples = 30)\n",
    "    labels= db.fit_predict(embeded_param)\n",
    "    return labels"
   ]
  },
  {
   "cell_type": "code",
   "execution_count": null,
   "id": "c6dc73c1",
   "metadata": {},
   "outputs": [],
   "source": [
    "# eps =1.0, min_samples = 30\n",
    "\n",
    "# aa properties\n",
    "data = df_result[[\"tsne_x_axis_volume_hydro\",\"tsne_y_axis_volume_hydro\"]].values.tolist()\n",
    "\n",
    "aa_properties_labels = label_dbscan(data,1.0, 30)\n",
    "df_result['aa_properties_dbscan'] = aa_properties_labels\n",
    "\n",
    "# one_hot\n",
    "data = df_result[['tsne_x_axis_seq_datas','tsne_y_axis_seq_datas']].values.tolist()\n",
    "\n",
    "one_hot_labels = label_dbscan(data,1.0, 30)\n",
    "df_result['one_hot_dbscan'] = one_hot_labels\n",
    "\n",
    "# k-mer\n",
    "data = df_result[['tsne_x_axis_data_pattern','tsne_y_axis_data_pattern']].values.tolist()\n",
    "\n",
    "k_mer_labels = label_dbscan(data,1.0,30)\n",
    "df_result['kmer_dbscan'] = k_mer_labels"
   ]
  },
  {
   "cell_type": "code",
   "execution_count": null,
   "id": "dbda8646",
   "metadata": {},
   "outputs": [],
   "source": [
    "# save data\n",
    "# df_result = pd.read_csv('df_result.csv', index_col = 0, keep_default_na=False) to read again\n",
    "\n",
    "df_result.to_csv('DB_scanned.csv')"
   ]
  },
  {
   "cell_type": "code",
   "execution_count": null,
   "id": "b7afe0f8",
   "metadata": {},
   "outputs": [],
   "source": [
    "#Fig.3\n",
    "\n",
    "# function to relabeling、other = Ot, N/A = NA, and others take three letters from first\n",
    "def rename_species_for_label(species_name: str):\n",
    "    if species_name == 'other': \n",
    "        rename = 'Ot'\n",
    "    elif species_name == 'N/A':\n",
    "        rename = 'NA'\n",
    "    else:\n",
    "        rename = species_name[0:2]\n",
    "    return rename"
   ]
  },
  {
   "cell_type": "code",
   "execution_count": null,
   "id": "8e320010",
   "metadata": {},
   "outputs": [],
   "source": [
    "# extract the mode\n",
    "def plot_text(df, DB_scan_label, x_axis, y_axis):\n",
    "    major_species_name = df['species_name'].mode()[0] # use mode function\n",
    "    percent = df['species_name'].to_list().count(major_species_name)*100/len(df) # calculate percentatge\n",
    "    center_x = df[x_axis].mean() # calculate average\n",
    "    center_y = df[y_axis].mean()\n",
    "    return [f'Cluster {DB_scan_label}\\n{rename_species_for_label(major_species_name)}: {round(percent, 0)}%', center_x, center_y]"
   ]
  },
  {
   "cell_type": "code",
   "execution_count": null,
   "id": "57f98277",
   "metadata": {},
   "outputs": [],
   "source": [
    "def plot_DBscan(df, DB_scan_label, n_threshhold, name, x_axis, y_axis):\n",
    "    color_number = 0\n",
    "    plt.figure(figsize = (12, 8))\n",
    "    plt.xlim(-70, 70)\n",
    "    plt.ylim(-70, 70)\n",
    "    plt.xticks(fontsize = 20)\n",
    "    plt.yticks(fontsize = 20)\n",
    "    plt.xlabel('t-SNE x axis', fontsize = 20, fontweight = 'bold')\n",
    "    plt.ylabel('t-SNE y axis', fontsize = 20, fontweight = 'bold')\n",
    "    plt.legend(fontsize = 12, markerscale = 5)\n",
    "    color_datasets = [color for color in (matplotlib.colors.XKCD_COLORS)]\n",
    "    \n",
    "    n_size_of_each_DB_label = df.groupby(DB_scan_label).size()\n",
    "    list_of_DB_label_above_threshold = n_size_of_each_DB_label[n_size_of_each_DB_label > n_threshhold]\n",
    "    \n",
    "    for i, label in enumerate(list_of_DB_label_above_threshold[1:].index):\n",
    "        df_ = df[df[DB_scan_label] == label]\n",
    "        text_data = plot_text(df_, i + 1, x_axis, y_axis)\n",
    "        \n",
    "        plt.scatter(df_[x_axis], df_[y_axis], s = 1, color = color_datasets[color_number])\n",
    "        plt.text(\n",
    "                int(text_data[1]),\n",
    "                int(text_data[2]),\n",
    "                str(text_data[0]),\n",
    "                fontsize = 9\n",
    "                )\n",
    "        color_number += 1\n",
    "    \n",
    "    os.makedirs(os.path.join('Results', 'Fig_3'), exist_ok = True)\n",
    "    print(fr'{color_number} clusters were found')\n",
    "    plt.savefig(os.path.join('Results', 'Fig_3', name), dpi = 300, bbox_inches = 'tight')"
   ]
  },
  {
   "cell_type": "code",
   "execution_count": null,
   "id": "c74ae080",
   "metadata": {},
   "outputs": [],
   "source": [
    "plot_DBscan(df_result, 'aa_properties_dbscan', 100,'Fig_3_DBscan_with_species_name_aa.png','tsne_x_axis_volume_hydro','tsne_y_axis_volume_hydro')\n",
    "\n",
    "plot_DBscan(df_result,'one_hot_dbscan', 100,'Fig_3_DBscan_with_species_name_one_hot.png','tsne_x_axis_seq_datas','tsne_y_axis_seq_datas')\n",
    "\n",
    "plot_DBscan(df_result,'kmer_dbscan', 100,'Fig_3_DBscan_with_species_name_kmer.png','tsne_x_axis_data_pattern','tsne_y_axis_data_pattern')"
   ]
  },
  {
   "cell_type": "code",
   "execution_count": null,
   "id": "f70dc585",
   "metadata": {},
   "outputs": [],
   "source": []
  }
 ],
 "metadata": {
  "kernelspec": {
   "display_name": "Python 3 (ipykernel)",
   "language": "python",
   "name": "python3"
  },
  "language_info": {
   "codemirror_mode": {
    "name": "ipython",
    "version": 3
   },
   "file_extension": ".py",
   "mimetype": "text/x-python",
   "name": "python",
   "nbconvert_exporter": "python",
   "pygments_lexer": "ipython3",
   "version": "3.7.3"
  }
 },
 "nbformat": 4,
 "nbformat_minor": 5
}
