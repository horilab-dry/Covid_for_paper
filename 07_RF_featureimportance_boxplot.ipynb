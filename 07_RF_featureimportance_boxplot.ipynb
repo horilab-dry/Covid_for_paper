{
 "cells": [
  {
   "cell_type": "code",
   "execution_count": null,
   "id": "2118af66",
   "metadata": {},
   "outputs": [],
   "source": [
    "import pandas as pd\n",
    "import numpy as np\n",
    "from sklearn.ensemble import RandomForestClassifier\n",
    "from sklearn.model_selection import StratifiedKFold, cross_validate\n",
    "from tqdm import tqdm\n",
    "import matplotlib.pyplot as plt\n",
    "import os"
   ]
  },
  {
   "cell_type": "code",
   "execution_count": null,
   "id": "8581477e",
   "metadata": {},
   "outputs": [],
   "source": [
    "df_result = pd.read_csv('DB_scanned.csv')"
   ]
  },
  {
   "cell_type": "code",
   "execution_count": null,
   "id": "6c3b65a0",
   "metadata": {},
   "outputs": [],
   "source": [
    "def sort_by_greek_alphabet(x):\n",
    "    greek_order = ['Alpha', 'Beta', 'Gamma', 'Delta', 'Epsilon', 'Eta', 'Iota', 'Kappa', 'Lambda', 'N/A', 'Omicron', 'Zeta', 'Mu', 'other']\n",
    "    return sorted(x, key=greek_order.index)\n",
    "\n",
    "def assign_amino_acid_parameter(df: list):\n",
    "    # Amino acid property [amino acid volume, amino acid hydrophilicity]. Both of these are relative values.\n",
    "    amino_acid_propeties = {\n",
    "        'A':[-2.90, -1.03], 'R':[2.41, 1.31], 'N':[-0.68, 0.79],\n",
    "        'D':[-0.92, 1.23], 'C':[-1.89, 0.15], 'Q':[0.36, 1.09],\n",
    "        'E':[0.16, 1.28], 'G':[-4.04, 0.01], 'H':[0.83, 1.15],\n",
    "        'I':[0.51, -1.32], 'L':[0.52, -1.40], 'K':[0.92, 1.23],\n",
    "        'M':[0.92, -1.42], 'F':[2.22, -1.47], 'P':[-1.25, -0.64],\n",
    "        'S':[-2.36, 0.38], 'T':[-1.19, 0.28], 'W':[4.28, -0.18],\n",
    "        'Y':[2.75, -0.18], 'V':[-0.65, -1.27], '-':[0, 0]\n",
    "    }\n",
    "    \n",
    "    # Assign amino acid properties from amino acid sequences.\n",
    "    pairwised_aa = [list(item) for item in tqdm(df['pairwised_sequence'].tolist())]\n",
    "    amino_acid_property = [[amino_acid_propeties[i] for i in sublist] for sublist in tqdm(pairwised_aa)]\n",
    "    \n",
    "    pairwised_volume = [[item[0] for item in sublist] for sublist in tqdm(amino_acid_property)] \n",
    "    pairwised_hydrophilicity = [[item[1] for item in sublist] for sublist in tqdm(amino_acid_property)]\n",
    "    amino_acid_volume_hydrophilicity = [sum([volume, hydro], []) for volume, hydro in tqdm(zip(pairwised_volume, pairwised_hydrophilicity))]\n",
    "    return amino_acid_volume_hydrophilicity"
   ]
  },
  {
   "cell_type": "code",
   "execution_count": null,
   "id": "de259038",
   "metadata": {},
   "outputs": [],
   "source": [
    "train_data = assign_amino_acid_parameter(df_result)"
   ]
  },
  {
   "cell_type": "code",
   "execution_count": null,
   "id": "3922f3f0",
   "metadata": {},
   "outputs": [],
   "source": [
    "def cross_validate_random_forest(data_X, data_Y, cv = 5):\n",
    "    np.set_printoptions(precision = 5)\n",
    "    rf = RandomForestClassifier(\n",
    "        n_estimators = 100,\n",
    "        max_leaf_nodes = 16,\n",
    "        random_state = 42,\n",
    "        class_weight='balanced'\n",
    "        )\n",
    "    \n",
    "    skf = StratifiedKFold(n_splits = cv, shuffle = True, random_state = 0)\n",
    "    scores = cross_validate(rf, data_X, data_Y, cv = skf, scoring = 'accuracy', return_estimator = True)\n",
    "    return scores\n",
    "\n",
    "def return_class_flag(labels, name):\n",
    "    if labels == name:\n",
    "        return 1\n",
    "    else:\n",
    "        return 0\n",
    "\n",
    "def extract_important_amino_acid_by_random_forest(train_data, labels_list, species_list):\n",
    "    train_label = [return_class_flag(i, species_list) for i in labels_list]\n",
    "    output = cross_validate_random_forest(train_data, train_label)\n",
    "    feature_amino_acid_list = [i.feature_importances_ for i in output['estimator']]\n",
    "    return feature_amino_acid_list"
   ]
  },
  {
   "cell_type": "code",
   "execution_count": null,
   "id": "2bc609fd",
   "metadata": {},
   "outputs": [],
   "source": [
    "def output_important_features_box_plot(feature_importance_list, species_name, save_folder: str):\n",
    "    \n",
    "    os.makedirs(os.path.join('Results', f'{save_folder}'), exist_ok = True)\n",
    "    \n",
    "    amino_acid_name_list = []\n",
    "    original_seq = \\\n",
    "    'MFVFLVLLPLVSSQCVNLTTRTQLPPAYTNSFTRGVYYPDKVFRSSVLHSTQDLFLPFFSNVTWFHAIHVSGTNGTKRFDNPVLPFNDGVYFASTEKSNIIRGWIF'\\\n",
    "    'GTTLDSKTQSLLIVNNATNVVIKVCEFQFCNDPFLGVYYHKNNKSWMESEFRVYSSANNCTFEYVSQPFLMDLEGKQGNFKNLREFVFKNIDGYFKIYSKHTPINL'\\\n",
    "    'VRDLPQGFSALEPLVDLPIGINITRFQTLLALHRSYLTPGDSSSGWTAGAAAYYVGYLQPRTFLLKYNENGTITDAVDCALDPLSETKCTLKSFTVEKGIYQTSNF'\\\n",
    "    'RVQPTESIVRFPNITNLCPFGEVFNATRFASVYAWNRKRISNCVADYSVLYNSASFSTFKCYGVSPTKLNDLCFTNVYADSFVIRGDEVRQIAPGQTGKIADYNYK'\\\n",
    "    'LPDDFTGCVIAWNSNNLDSKVGGNYNYLYRLFRKSNLKPFERDISTEIYQAGSTPCNGVEGFNCYFPLQSYGFQPTNGVGYQPYRVVVLSFELLHAPATVCGPKKS'\\\n",
    "    'TNLVKNKCVNFNFNGLTGTGVLTESNKKFLPFQQFGRDIADTTDAVRDPQTLEILDITPCSFGGVSVITPGTNTSNQVAVLYQDVNCTEVPVAIHADQLTPTWRVY'\\\n",
    "    'STGSNVFQTRAGCLIGAEHVNNSYECDIPIGAGICASYQTQTNSPRRARSVASQSIIAYTMSLGAENSVAYSNNSIAIPTNFTISVTTEILPVSMTKTSVDCTMYI'\\\n",
    "    'CGDSTECSNLLLQYGSFCTQLNRALTGIAVEQDKNTQEVFAQVKQIYKTPPIKDFGGFNFSQILPDPSKPSKRSFIEDLLFNKVTLADAGFIKQYGDCLGDIAARD'\\\n",
    "    'LICAQKFNGLTVLPPLLTDEMIAQYTSALLAGTITSGWTFGAGAALQIPFAMQMAYRFNGIGVTQNVLYENQKLIANQFNSAIGKIQDSLSSTASALGKLQDVVNQ'\\\n",
    "    'NAQALNTLVKQLSSNFGAISSVLNDILSRLDKVEAEVQIDRLITGRLQSLQTYVTQQLIRAAEIRASANLAATKMSECVLGQSKRVDFCGKGYHLMSFPQSAPHGV'\\\n",
    "    'VFLHVTYVPAQEKNFTTAPAICHDGKAHFPREGVFVSNGTHWFVTQRNFYEPQIITTDNTFVSGNCDVVIGIVNNTVYDPLQPELDSFKEELDKYFKNHTSPDVDL'\\\n",
    "    'GDISGINASVVNIQKEIDRLNEVAKNLNESLIDLQELGKYEQYIKWPWYIWLGFIAGLIAIVMVTIMLCCMTSCCSCLKGCCSCGSCCKFDEDDSEPVLKGVKLHYT'\n",
    "    \n",
    "    for param in ['V','H']:\n",
    "        for i, name in enumerate(original_seq):\n",
    "            amino_acid_name_list.append(name + str(i + 1) + '_' + param)\n",
    "    \n",
    "    df_res = pd.DataFrame(columns = amino_acid_name_list)\n",
    "    \n",
    "    # create the table of importance calculated by RF for each residue\n",
    "    for importance in feature_importance_list:\n",
    "        s = pd.Series(importance, index = amino_acid_name_list)\n",
    "        df_res.append(s, ignore_index = True)\n",
    "        \n",
    "    s = pd.DataFrame(feature_importance_list, columns = amino_acid_name_list)\n",
    "    s = s.append(s.mean(), ignore_index = True)\n",
    "    s = s.rename(index = {len(feature_importance_list): 'mean'})\n",
    "    \n",
    "    # calculate the average of importance in 5 times RF for each residue\n",
    "    s = s.sort_values(by = 'mean', axis = 1)\n",
    "    name_list=[]\n",
    "    \n",
    "    # extract top20\n",
    "    for name in s.columns[-20:]:\n",
    "        name_list.append(name)\n",
    "        \n",
    "    fig = plt.figure(figsize = (12, 8))\n",
    "    boxplot = s.iloc[:5].boxplot(column = name_list, rot = 90, fontsize = 14)\n",
    "    boxplot.plot()\n",
    "    plt.xticks(fontsize = 18)\n",
    "    plt.yticks(fontsize = 18)\n",
    "    plt.ylabel('Importance', fontsize = 20, fontweight = 'bold')\n",
    "    plt.title(species_name, fontsize = 20)\n",
    "    plt.ylim(bottom = 0)\n",
    "    fig.savefig(os.path.join('Results', f'{save_folder}', f'RF_feature_importance_{species_name}.png'), dpi = 300, bbox_inches = 'tight')\n",
    "    plt.show()"
   ]
  },
  {
   "cell_type": "code",
   "execution_count": null,
   "id": "f1a263f4",
   "metadata": {},
   "outputs": [],
   "source": [
    "# Fig. 6\n",
    "\n",
    "major_dict = {\n",
    "    DB_label: f'{index}, The major species is {species_name}' for DB_label, index, species_name \n",
    "    in zip(df_result['aa_properties_dbscan'], df_result['cluster_no'], df_result['major_species_in_cluster'])\n",
    "    }\n",
    "\n",
    "for DB_major_species in major_dict:\n",
    "    tmp = extract_important_amino_acid_by_random_forest(train_data, df_result['aa_properties_dbscan'], DB_major_species)\n",
    "    output_important_features_box_plot(tmp, str(major_dict[DB_major_species]), 'Fig_4')"
   ]
  }
 ],
 "metadata": {
  "kernelspec": {
   "display_name": "Python 3 (ipykernel)",
   "language": "python",
   "name": "python3"
  },
  "language_info": {
   "codemirror_mode": {
    "name": "ipython",
    "version": 3
   },
   "file_extension": ".py",
   "mimetype": "text/x-python",
   "name": "python",
   "nbconvert_exporter": "python",
   "pygments_lexer": "ipython3",
   "version": "3.7.3"
  }
 },
 "nbformat": 4,
 "nbformat_minor": 5
}
