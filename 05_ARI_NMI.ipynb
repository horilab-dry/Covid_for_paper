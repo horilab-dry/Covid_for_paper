{
 "cells": [
  {
   "cell_type": "code",
   "execution_count": null,
   "id": "4be95f55",
   "metadata": {},
   "outputs": [],
   "source": [
    "## Compare cluster\n",
    "\n",
    "## Fig. 4\n",
    "\n",
    "import pandas as pd\n",
    "\n",
    "df_result = pd.read_csv('df_result.csv', index_col = 0, keep_default_na=False)\n",
    "\n",
    "aa_properties_labels = df_result['aa_properties_dbscan']\n",
    "one_hot_labels = df_result['one_hot_dbscan']\n",
    "k_mer_labels = df_result['kmer_dbscan']"
   ]
  },
  {
   "cell_type": "code",
   "execution_count": null,
   "id": "f14ed23a",
   "metadata": {},
   "outputs": [],
   "source": [
    "# Adjusted Rand Index\n",
    "from sklearn.metrics import adjusted_rand_score"
   ]
  },
  {
   "cell_type": "code",
   "execution_count": null,
   "id": "642a4e71",
   "metadata": {},
   "outputs": [],
   "source": [
    "adjusted_rand_score(aa_properties_labels, one_hot_labels)\n",
    "\n",
    "adjusted_rand_score(aa_properties_labels, k_mer_labels)\n",
    "\n",
    "adjusted_rand_score(k_mer_labels, one_hot_labels)"
   ]
  },
  {
   "cell_type": "code",
   "execution_count": null,
   "id": "e1e21683",
   "metadata": {},
   "outputs": [],
   "source": [
    "# Normalized Mutual Information\n",
    "\n",
    "from sklearn.metrics.cluster import normalized_mutual_info_score"
   ]
  },
  {
   "cell_type": "code",
   "execution_count": null,
   "id": "76d18617",
   "metadata": {},
   "outputs": [],
   "source": [
    "normalized_mutual_info_score(aa_properties_labels, one_hot_labels)\n",
    "\n",
    "normalized_mutual_info_score(aa_properties_labels, k_mer_labels)\n",
    "\n",
    "normalized_mutual_info_score(k_mer_labels, one_hot_labels)"
   ]
  }
 ],
 "metadata": {
  "kernelspec": {
   "display_name": "Python 3 (ipykernel)",
   "language": "python",
   "name": "python3"
  },
  "language_info": {
   "codemirror_mode": {
    "name": "ipython",
    "version": 3
   },
   "file_extension": ".py",
   "mimetype": "text/x-python",
   "name": "python",
   "nbconvert_exporter": "python",
   "pygments_lexer": "ipython3",
   "version": "3.7.3"
  }
 },
 "nbformat": 4,
 "nbformat_minor": 5
}
